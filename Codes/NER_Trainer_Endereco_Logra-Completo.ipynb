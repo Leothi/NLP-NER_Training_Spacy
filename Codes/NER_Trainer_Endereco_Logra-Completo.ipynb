{
 "cells": [
  {
   "cell_type": "code",
   "execution_count": 1,
   "metadata": {},
   "outputs": [],
   "source": [
    "# Load Packages\n",
    "from __future__ import unicode_literals, print_function\n",
    "\n",
    "import random\n",
    "import numpy as np\n",
    "import unicodedata\n",
    "import pickle\n",
    "import spacy\n",
    "import pandas as pd\n",
    "import re\n",
    "\n",
    "from spacy.util import minibatch, compounding\n",
    "from nltk.tokenize import sent_tokenize"
   ]
  },
  {
   "cell_type": "code",
   "execution_count": 2,
   "metadata": {},
   "outputs": [],
   "source": [
    "# Função para substituir acentos\n",
    "\n",
    "def strip_accents(text):\n",
    "    try:\n",
    "        text = unicode(text, 'utf-8')\n",
    "    except (TypeError, NameError): # unicode is a default on python 3 \n",
    "        pass\n",
    "    text = unicodedata.normalize('NFD', text)\n",
    "    text = text.encode('ascii', 'ignore')\n",
    "    text = text.decode(\"utf-8\")\n",
    "    \n",
    "    return str(text)"
   ]
  },
  {
   "cell_type": "markdown",
   "metadata": {},
   "source": [
    "# Abrindo e gerando Datasets"
   ]
  },
  {
   "cell_type": "markdown",
   "metadata": {},
   "source": [
    "### Entidade logradouro"
   ]
  },
  {
   "cell_type": "code",
   "execution_count": 3,
   "metadata": {},
   "outputs": [
    {
     "name": "stdout",
     "output_type": "stream",
     "text": [
      "128016\n"
     ]
    }
   ],
   "source": [
    "with open ('../Datasets/Dataset_V2.0.txt', 'rb') as fp:\n",
    "    dataset = pickle.load(fp)\n",
    "\n",
    "print(len(dataset))"
   ]
  },
  {
   "cell_type": "code",
   "execution_count": 4,
   "metadata": {},
   "outputs": [
    {
     "data": {
      "text/plain": [
       "('R.GUILHERME MOREIRA,315 SUBLOJA,LOJA E 2.ANDAR 69005-300 MANAUS CENTRO AM',\n",
       " {'entities': [(0, 23, 'END_LOG')]})"
      ]
     },
     "execution_count": 4,
     "metadata": {},
     "output_type": "execute_result"
    }
   ],
   "source": [
    "dataset[0]"
   ]
  },
  {
   "cell_type": "code",
   "execution_count": 5,
   "metadata": {},
   "outputs": [],
   "source": [
    "end_lista = []\n",
    "\n",
    "for i in range(len(dataset)):\n",
    "    str_tratada = dataset[i][0]\n",
    "    str_tratada = str_tratada.lower() # Tudo em minúsculo\n",
    "    str_tratada = strip_accents(str_tratada) # Substituição de acentos e caracteres diferentes\n",
    "    \n",
    "    end_lista.append(str_tratada)"
   ]
  },
  {
   "cell_type": "code",
   "execution_count": 6,
   "metadata": {},
   "outputs": [
    {
     "data": {
      "text/plain": [
       "['r.guilherme moreira,315 subloja,loja e 2.andar 69005-300 manaus centro am',\n",
       " '69005-300 manaus am r.guilherme moreira,315 centro subloja,loja e 2.andar',\n",
       " 'r.guilherme moreira,315 centro 69005-300 subloja,loja e 2.andar manaus am']"
      ]
     },
     "execution_count": 6,
     "metadata": {},
     "output_type": "execute_result"
    }
   ],
   "source": [
    "end_lista[:3]"
   ]
  },
  {
   "cell_type": "code",
   "execution_count": 7,
   "metadata": {},
   "outputs": [],
   "source": [
    "iob = []\n",
    "\n",
    "for i in range(len(dataset)):\n",
    "    tupla = (end_lista[i], dataset[i][1])\n",
    "    \n",
    "    iob.append(tupla)\n",
    "    \n",
    "FULL_DATA = iob"
   ]
  },
  {
   "cell_type": "code",
   "execution_count": 8,
   "metadata": {},
   "outputs": [
    {
     "name": "stdout",
     "output_type": "stream",
     "text": [
      "('r.guilherme moreira,315 subloja,loja e 2.andar 69005-300 manaus centro am', {'entities': [(0, 23, 'END_LOG')]})\n",
      "('69005-300 manaus am r.guilherme moreira,315 centro subloja,loja e 2.andar', {'entities': [(20, 43, 'END_LOG')]})\n",
      "('r.guilherme moreira,315 centro 69005-300 subloja,loja e 2.andar manaus am', {'entities': [(0, 23, 'END_LOG')]})\n"
     ]
    }
   ],
   "source": [
    "print(FULL_DATA[0])\n",
    "print(FULL_DATA[1])\n",
    "print(FULL_DATA[2])"
   ]
  },
  {
   "cell_type": "code",
   "execution_count": 9,
   "metadata": {},
   "outputs": [
    {
     "name": "stdout",
     "output_type": "stream",
     "text": [
      "Treinamento: 115214 \n",
      "Teste: 12802 \n",
      "Total: 128016\n"
     ]
    }
   ],
   "source": [
    "# Criação da base de teste e treinamento\n",
    "\n",
    "n_test= 0.1 # Porcentagem para base de teste\n",
    "test_n = round(len(FULL_DATA) * n_test)\n",
    "\n",
    "# Divisao em Train Test Val\n",
    "\n",
    "def gerador_bases(dataset, n):\n",
    "    indices_random = random.sample(range(0,len(dataset)-1), n)\n",
    "    base_teste_n = []\n",
    "    base_treinamento_n = []\n",
    "    \n",
    "    for i in range(n):\n",
    "        base_teste_n.append(dataset[indices_random[i]])\n",
    "\n",
    "    for j in range(len(dataset)):\n",
    "        if(j not in indices_random):\n",
    "            base_treinamento_n.append(dataset[j])\n",
    "            \n",
    "    return base_teste_n, base_treinamento_n\n",
    "\n",
    "\n",
    "base_teste, base_treinamento = gerador_bases(FULL_DATA, test_n)\n",
    "\n",
    "random.shuffle(base_treinamento)\n",
    "random.shuffle(base_teste)\n",
    "\n",
    "print(\"Treinamento: \" + str(len(base_treinamento)), \"\\nTeste: \" + str(len(base_teste)), \"\\nTotal: \" + str(len(FULL_DATA)))"
   ]
  },
  {
   "cell_type": "code",
   "execution_count": 10,
   "metadata": {},
   "outputs": [
    {
     "name": "stdout",
     "output_type": "stream",
     "text": [
      "('av. guajajaras, 200 tirirical ma 65055-285 quadra 220 - lojas 01 e 02 sao luis', {'entities': [(0, 19, 'END_LOG')]})\n",
      "('cambe centro avenida inglaterra  86181-000 pr', {'entities': [(13, 31, 'END_LOG')]})\n",
      "('centro sp mogi das cruzes 08710-500 av.vol.fernando p.franco,432 sala exclusivo', {'entities': [(36, 64, 'END_LOG')]})\n",
      "('79965-000 itaquirai ms av.treze de maio,393 centro', {'entities': [(24, 44, 'END_LOG')]})\n",
      "('rua dos andradas 1143 90020-015 rs porto alegre centro', {'entities': [(0, 21, 'END_LOG')]})\n"
     ]
    }
   ],
   "source": [
    "for i in range(5):\n",
    "    print(base_treinamento[i])"
   ]
  },
  {
   "cell_type": "markdown",
   "metadata": {},
   "source": [
    "# Criando o modelo"
   ]
  },
  {
   "cell_type": "code",
   "execution_count": 11,
   "metadata": {},
   "outputs": [],
   "source": [
    "# Define our variables\n",
    "\n",
    "model = None\n",
    "n_iter= 250 # número de épocas\n",
    "batch_size = 64"
   ]
  },
  {
   "cell_type": "code",
   "execution_count": 12,
   "metadata": {},
   "outputs": [
    {
     "name": "stdout",
     "output_type": "stream",
     "text": [
      "Created blank 'pt' model\n",
      "Added new NER\n"
     ]
    }
   ],
   "source": [
    "# Setting up the pipeline and entity recognizer.\n",
    "if model is not None:\n",
    "    nlp = spacy.load(model)  # load existing spacy model\n",
    "    print(\"Loaded model '%s'\" % model)\n",
    "else:\n",
    "    lan = 'pt'\n",
    "    nlp = spacy.blank(lan)  # create blank Language class\n",
    "    print(\"Created blank '%s' model\" % lan)\n",
    "    \n",
    "if 'ner' not in nlp.pipe_names:\n",
    "    ner = nlp.create_pipe('ner')\n",
    "    nlp.add_pipe(ner)\n",
    "    print('Added new NER')\n",
    "else:\n",
    "    ner = nlp.get_pipe('ner')\n",
    "    print('Got an old NER')"
   ]
  },
  {
   "cell_type": "code",
   "execution_count": 13,
   "metadata": {},
   "outputs": [],
   "source": [
    "# create the built-in pipeline components and add them to the pipeline\n",
    "    # nlp.create_pipe works for built-ins that are registered with spaCy\n",
    "if 'ner' not in nlp.pipe_names:\n",
    "    ner = nlp.create_pipe('ner')\n",
    "    nlp.add_pipe(ner, last=True)\n",
    "# otherwise, get it so we can add labels\n",
    "else:\n",
    "    ner = nlp.get_pipe('ner')"
   ]
  },
  {
   "cell_type": "markdown",
   "metadata": {},
   "source": [
    "## Treinamento"
   ]
  },
  {
   "cell_type": "code",
   "execution_count": 14,
   "metadata": {
    "scrolled": true
   },
   "outputs": [
    {
     "name": "stdout",
     "output_type": "stream",
     "text": [
      "Batch size:  64\n",
      "Épocas:  250\n",
      "\n",
      "1 \tLosses {'ner': 42406.08663019806}\n",
      "2 \tLosses {'ner': 15049.701008918018}\n",
      "3 \tLosses {'ner': 11350.498958502678}\n",
      "4 \tLosses {'ner': 9064.326153172273}\n",
      "5 \tLosses {'ner': 7616.480735804446}\n",
      "6 \tLosses {'ner': 6346.333682917659}\n",
      "7 \tLosses {'ner': 5661.365211955623}\n",
      "8 \tLosses {'ner': 5224.147627824183}\n",
      "9 \tLosses {'ner': 4786.875430345193}\n",
      "10 \tLosses {'ner': 4257.502126250984}\n",
      "11 \tLosses {'ner': 4274.676365970277}\n",
      "12 \tLosses {'ner': 4122.700997887913}\n",
      "13 \tLosses {'ner': 3948.6326896470528}\n",
      "14 \tLosses {'ner': 3632.2018594776814}\n",
      "15 \tLosses {'ner': 3526.779333861872}\n",
      "16 \tLosses {'ner': 3383.506706048531}\n",
      "17 \tLosses {'ner': 3158.5789782703105}\n",
      "18 \tLosses {'ner': 3201.920417003539}\n",
      "19 \tLosses {'ner': 2990.0705192696396}\n",
      "20 \tLosses {'ner': 2834.5102037985994}\n",
      "21 \tLosses {'ner': 2756.1972640193785}\n",
      "22 \tLosses {'ner': 2706.5008327412083}\n",
      "23 \tLosses {'ner': 2496.563174540845}\n",
      "24 \tLosses {'ner': 2471.653247965368}\n",
      "25 \tLosses {'ner': 2648.209574222119}\n",
      "26 \tLosses {'ner': 2483.1289684104268}\n",
      "27 \tLosses {'ner': 2156.933221281615}\n",
      "28 \tLosses {'ner': 2166.5255439578086}\n",
      "29 \tLosses {'ner': 2173.083603918467}\n",
      "30 \tLosses {'ner': 1919.6414052955172}\n",
      "31 \tLosses {'ner': 2023.4620142894455}\n",
      "32 \tLosses {'ner': 2039.7772441708175}\n",
      "33 \tLosses {'ner': 1828.530154705936}\n",
      "34 \tLosses {'ner': 1989.8112817316737}\n",
      "35 \tLosses {'ner': 2109.3392405462537}\n",
      "36 \tLosses {'ner': 1675.7605350462418}\n",
      "37 \tLosses {'ner': 1841.9268426814826}\n",
      "38 \tLosses {'ner': 1732.8327592214616}\n",
      "39 \tLosses {'ner': 1794.768681030883}\n",
      "40 \tLosses {'ner': 1557.1326398087692}\n",
      "41 \tLosses {'ner': 1638.444511050231}\n",
      "42 \tLosses {'ner': 1591.0145975254895}\n",
      "43 \tLosses {'ner': 1547.5575577257061}\n",
      "44 \tLosses {'ner': 1472.0709530255758}\n",
      "45 \tLosses {'ner': 1507.447548473527}\n",
      "46 \tLosses {'ner': 1444.9024645322343}\n",
      "47 \tLosses {'ner': 1442.2851083920582}\n",
      "48 \tLosses {'ner': 1378.4004397217204}\n",
      "49 \tLosses {'ner': 1205.5679207608455}\n",
      "50 \tLosses {'ner': 1503.6744793885996}\n",
      "51 \tLosses {'ner': 1453.3336576213915}\n",
      "52 \tLosses {'ner': 1422.9923247503782}\n",
      "53 \tLosses {'ner': 1469.912262748522}\n",
      "54 \tLosses {'ner': 1253.6208105738556}\n",
      "55 \tLosses {'ner': 1280.5897774616644}\n",
      "56 \tLosses {'ner': 1221.1982606246731}\n",
      "57 \tLosses {'ner': 1261.9524689767377}\n",
      "58 \tLosses {'ner': 1136.7130352965933}\n",
      "59 \tLosses {'ner': 1138.3850789624514}\n",
      "60 \tLosses {'ner': 1195.6830896126298}\n",
      "61 \tLosses {'ner': 1263.8739468063961}\n",
      "62 \tLosses {'ner': 1230.8818959792213}\n",
      "63 \tLosses {'ner': 1164.4786311928399}\n",
      "64 \tLosses {'ner': 1129.2927513342393}\n",
      "65 \tLosses {'ner': 1092.2092815119793}\n",
      "66 \tLosses {'ner': 1086.9829152669413}\n",
      "67 \tLosses {'ner': 1094.5522045999483}\n",
      "68 \tLosses {'ner': 996.3300139540197}\n",
      "69 \tLosses {'ner': 1077.551111971591}\n",
      "70 \tLosses {'ner': 1156.7047853621907}\n",
      "71 \tLosses {'ner': 1046.7192822243246}\n",
      "72 \tLosses {'ner': 1095.9483035406936}\n",
      "73 \tLosses {'ner': 961.4995513896317}\n",
      "74 \tLosses {'ner': 1038.4090642019091}\n",
      "75 \tLosses {'ner': 976.4780417582507}\n",
      "76 \tLosses {'ner': 1005.7807937758485}\n",
      "77 \tLosses {'ner': 1038.7742017236296}\n",
      "78 \tLosses {'ner': 1042.6150945164793}\n",
      "79 \tLosses {'ner': 1061.8793884249194}\n",
      "80 \tLosses {'ner': 992.2793080797192}\n",
      "81 \tLosses {'ner': 967.044065252622}\n",
      "82 \tLosses {'ner': 909.8014248432327}\n",
      "83 \tLosses {'ner': 898.3365747215985}\n",
      "84 \tLosses {'ner': 906.577145193919}\n",
      "85 \tLosses {'ner': 1041.0604752016166}\n",
      "86 \tLosses {'ner': 1035.7976610388428}\n",
      "87 \tLosses {'ner': 993.9588466562337}\n",
      "88 \tLosses {'ner': 912.0694355557945}\n",
      "89 \tLosses {'ner': 815.527721567467}\n",
      "90 \tLosses {'ner': 866.0826037425405}\n",
      "91 \tLosses {'ner': 904.3481649225726}\n",
      "92 \tLosses {'ner': 835.4383911289021}\n",
      "93 \tLosses {'ner': 844.8151533509098}\n",
      "94 \tLosses {'ner': 901.0846870463008}\n",
      "95 \tLosses {'ner': 1016.8700128092488}\n",
      "96 \tLosses {'ner': 841.1072866056569}\n",
      "97 \tLosses {'ner': 859.062603388897}\n",
      "98 \tLosses {'ner': 872.1821087678433}\n",
      "99 \tLosses {'ner': 796.2495322120342}\n",
      "100 \tLosses {'ner': 798.621301417063}\n",
      "101 \tLosses {'ner': 828.8117185828247}\n",
      "102 \tLosses {'ner': 819.4685240542404}\n",
      "103 \tLosses {'ner': 720.5094776321529}\n",
      "104 \tLosses {'ner': 822.4341650934541}\n",
      "105 \tLosses {'ner': 826.1179772181661}\n",
      "106 \tLosses {'ner': 893.4732589140681}\n",
      "107 \tLosses {'ner': 843.8032567326724}\n",
      "108 \tLosses {'ner': 813.6131053986865}\n",
      "109 \tLosses {'ner': 933.7145691225817}\n",
      "110 \tLosses {'ner': 813.676154453244}\n",
      "111 \tLosses {'ner': 869.6716065013437}\n",
      "112 \tLosses {'ner': 724.5856974937378}\n",
      "113 \tLosses {'ner': 735.7160163280395}\n",
      "114 \tLosses {'ner': 763.0086864921834}\n",
      "115 \tLosses {'ner': 755.3322405052247}\n",
      "116 \tLosses {'ner': 770.8266088402904}\n",
      "117 \tLosses {'ner': 698.4980975845567}\n",
      "118 \tLosses {'ner': 844.7434941102857}\n",
      "119 \tLosses {'ner': 860.3499595282128}\n",
      "120 \tLosses {'ner': 757.8396055988424}\n",
      "121 \tLosses {'ner': 663.0677190508317}\n",
      "122 \tLosses {'ner': 729.0145222965069}\n",
      "123 \tLosses {'ner': 789.8254007597143}\n",
      "124 \tLosses {'ner': 714.5859607628205}\n",
      "125 \tLosses {'ner': 839.1906625979681}\n",
      "126 \tLosses {'ner': 683.1258565265852}\n",
      "127 \tLosses {'ner': 739.0238978462997}\n",
      "128 \tLosses {'ner': 860.1232432076637}\n",
      "129 \tLosses {'ner': 737.0575497118558}\n",
      "130 \tLosses {'ner': 654.981063944982}\n",
      "131 \tLosses {'ner': 705.942597164196}\n",
      "132 \tLosses {'ner': 696.2399446488224}\n",
      "133 \tLosses {'ner': 764.6909507431178}\n",
      "134 \tLosses {'ner': 716.2969833236184}\n",
      "135 \tLosses {'ner': 701.4037732173545}\n",
      "136 \tLosses {'ner': 691.4073999537544}\n",
      "137 \tLosses {'ner': 666.5788400037477}\n",
      "138 \tLosses {'ner': 709.973285130076}\n",
      "139 \tLosses {'ner': 695.9138392721328}\n",
      "140 \tLosses {'ner': 702.6888440931646}\n",
      "141 \tLosses {'ner': 662.2707827868568}\n",
      "142 \tLosses {'ner': 708.4116391068925}\n",
      "143 \tLosses {'ner': 656.7871119572487}\n",
      "144 \tLosses {'ner': 632.7949267674071}\n",
      "145 \tLosses {'ner': 642.0970715046215}\n",
      "146 \tLosses {'ner': 643.8965375825337}\n",
      "147 \tLosses {'ner': 665.9924460581312}\n",
      "148 \tLosses {'ner': 615.2992523100663}\n",
      "149 \tLosses {'ner': 692.5235070330417}\n",
      "150 \tLosses {'ner': 589.748061915894}\n",
      "151 \tLosses {'ner': 533.8768786086019}\n",
      "152 \tLosses {'ner': 601.9989854943084}\n",
      "153 \tLosses {'ner': 719.6810730394243}\n",
      "154 \tLosses {'ner': 668.7716169661188}\n",
      "155 \tLosses {'ner': 678.6438135146809}\n",
      "156 \tLosses {'ner': 696.7218006937313}\n",
      "157 \tLosses {'ner': 593.6800780539935}\n",
      "158 \tLosses {'ner': 712.0333118740195}\n",
      "159 \tLosses {'ner': 654.6500249257625}\n",
      "160 \tLosses {'ner': 590.6015710568219}\n",
      "161 \tLosses {'ner': 566.3214692426042}\n",
      "162 \tLosses {'ner': 613.0445617170009}\n",
      "163 \tLosses {'ner': 687.7406284796724}\n",
      "164 \tLosses {'ner': 636.4752442335853}\n",
      "165 \tLosses {'ner': 615.6160575102782}\n",
      "166 \tLosses {'ner': 656.2595184956624}\n",
      "167 \tLosses {'ner': 602.8429359999234}\n",
      "168 \tLosses {'ner': 590.5764222857912}\n",
      "169 \tLosses {'ner': 657.5585611557044}\n",
      "170 \tLosses {'ner': 587.3125557521719}\n",
      "171 \tLosses {'ner': 665.652166157172}\n",
      "172 \tLosses {'ner': 687.0676370875863}\n",
      "173 \tLosses {'ner': 562.9520150552345}\n",
      "174 \tLosses {'ner': 553.9719293420214}\n",
      "175 \tLosses {'ner': 583.6406763513967}\n",
      "176 \tLosses {'ner': 570.6713811380292}\n",
      "177 \tLosses {'ner': 611.9938526960909}\n",
      "178 \tLosses {'ner': 570.1137387421837}\n",
      "179 \tLosses {'ner': 718.7640358023206}\n",
      "180 \tLosses {'ner': 685.0514396153209}\n",
      "181 \tLosses {'ner': 609.8546562143239}\n",
      "182 \tLosses {'ner': 776.9517135487498}\n",
      "183 \tLosses {'ner': 596.3103152689026}\n",
      "184 \tLosses {'ner': 707.7494961997885}\n",
      "185 \tLosses {'ner': 630.3133105184021}\n",
      "186 \tLosses {'ner': 563.106738980538}\n",
      "187 \tLosses {'ner': 619.266427464063}\n",
      "188 \tLosses {'ner': 658.0956590735551}\n",
      "189 \tLosses {'ner': 543.3396738124054}\n",
      "190 \tLosses {'ner': 635.017862207942}\n",
      "191 \tLosses {'ner': 691.6144941075469}\n",
      "192 \tLosses {'ner': 544.8210739387615}\n",
      "193 \tLosses {'ner': 698.0963245625283}\n",
      "194 \tLosses {'ner': 685.3029590108283}\n",
      "195 \tLosses {'ner': 634.8049483626309}\n",
      "196 \tLosses {'ner': 578.5835953610349}\n",
      "197 \tLosses {'ner': 522.8231390413498}\n",
      "198 \tLosses {'ner': 543.1955693555861}\n",
      "199 \tLosses {'ner': 619.0852577705389}\n",
      "200 \tLosses {'ner': 612.6247089612568}\n",
      "201 \tLosses {'ner': 610.94411616964}\n",
      "202 \tLosses {'ner': 525.3687022186407}\n",
      "203 \tLosses {'ner': 635.2934606420214}\n",
      "204 \tLosses {'ner': 520.6760042393202}\n",
      "205 \tLosses {'ner': 617.1136729482183}\n",
      "206 \tLosses {'ner': 593.9410087197715}\n",
      "207 \tLosses {'ner': 630.8456086298997}\n",
      "208 \tLosses {'ner': 474.63771731125905}\n",
      "209 \tLosses {'ner': 610.4643588143468}\n",
      "210 \tLosses {'ner': 568.1123322577898}\n",
      "211 \tLosses {'ner': 522.7588557303599}\n",
      "212 \tLosses {'ner': 575.77444185329}\n"
     ]
    },
    {
     "name": "stdout",
     "output_type": "stream",
     "text": [
      "213 \tLosses {'ner': 563.0215611536013}\n",
      "214 \tLosses {'ner': 520.6180420960169}\n",
      "215 \tLosses {'ner': 659.9350522392068}\n",
      "216 \tLosses {'ner': 579.6235185133171}\n",
      "217 \tLosses {'ner': 564.095032943676}\n",
      "218 \tLosses {'ner': 562.1823636748845}\n",
      "219 \tLosses {'ner': 547.6217024772541}\n",
      "220 \tLosses {'ner': 511.5338387494853}\n",
      "221 \tLosses {'ner': 578.3926111448992}\n",
      "222 \tLosses {'ner': 596.0341605029375}\n",
      "223 \tLosses {'ner': 579.7318777297733}\n",
      "224 \tLosses {'ner': 557.1131084603004}\n",
      "225 \tLosses {'ner': 472.17445095570025}\n",
      "226 \tLosses {'ner': 541.1947102670923}\n",
      "227 \tLosses {'ner': 585.7414298735154}\n",
      "228 \tLosses {'ner': 608.1470068059665}\n",
      "229 \tLosses {'ner': 595.8964407480152}\n",
      "230 \tLosses {'ner': 519.5385208411714}\n",
      "231 \tLosses {'ner': 633.3852996582453}\n",
      "232 \tLosses {'ner': 549.4795733238786}\n",
      "233 \tLosses {'ner': 623.8059795845331}\n",
      "234 \tLosses {'ner': 535.1691910501901}\n",
      "235 \tLosses {'ner': 525.7145849011621}\n",
      "236 \tLosses {'ner': 584.1992667302761}\n",
      "237 \tLosses {'ner': 574.5143701610921}\n",
      "238 \tLosses {'ner': 570.551773341677}\n",
      "239 \tLosses {'ner': 549.3727815956624}\n",
      "240 \tLosses {'ner': 571.8637855774624}\n",
      "241 \tLosses {'ner': 569.291021802538}\n",
      "242 \tLosses {'ner': 544.4269000476987}\n",
      "243 \tLosses {'ner': 580.7830708803855}\n",
      "244 \tLosses {'ner': 609.6801619897508}\n",
      "245 \tLosses {'ner': 582.6008007143879}\n",
      "246 \tLosses {'ner': 559.5158020099808}\n",
      "247 \tLosses {'ner': 585.9292063741624}\n",
      "248 \tLosses {'ner': 508.29856865150197}\n",
      "249 \tLosses {'ner': 502.41319064485964}\n",
      "250 \tLosses {'ner': 577.8884168084447}\n"
     ]
    }
   ],
   "source": [
    "print(\"Batch size: \", batch_size)\n",
    "print(\"Épocas: \", n_iter)\n",
    "print()\n",
    "\n",
    "# add labels\n",
    "for _, annotations in base_treinamento:\n",
    "    for ent in annotations.get('entities'):\n",
    "        ner.add_label(ent[2])\n",
    "\n",
    "\n",
    "# get names of other pipes to disable them during training\n",
    "other_pipes = [pipe for pipe in nlp.pipe_names if pipe != 'ner']\n",
    "with nlp.disable_pipes(*other_pipes):  # only train NER\n",
    "    optimizer = nlp.begin_training()\n",
    "    for itn in range(n_iter):\n",
    "        random.shuffle(base_treinamento)\n",
    "        losses = {}\n",
    "        batches = minibatch(base_treinamento, size=batch_size)\n",
    "        \n",
    "        for batch in batches:\n",
    "            texts, annotations = zip(*batch)\n",
    "            try:\n",
    "                nlp.update(texts, annotations, sgd=optimizer, drop=0.2,\n",
    "                       losses=losses)\n",
    "            except:\n",
    "                pass     \n",
    "        \n",
    "        print(itn+1, '\\tLosses', losses)        "
   ]
  },
  {
   "cell_type": "markdown",
   "metadata": {},
   "source": [
    "## Salvando modelo"
   ]
  },
  {
   "cell_type": "code",
   "execution_count": 15,
   "metadata": {},
   "outputs": [],
   "source": [
    "nlp.to_disk('../Saved_models/')"
   ]
  },
  {
   "cell_type": "markdown",
   "metadata": {},
   "source": [
    "## Carregando modelo para teste\n",
    "#### Executar até antes de `Criando o modelo` caso já tenha treinado anteriormente."
   ]
  },
  {
   "cell_type": "code",
   "execution_count": 10,
   "metadata": {},
   "outputs": [],
   "source": [
    "nlp = spacy.load('../Saved_models/')"
   ]
  },
  {
   "cell_type": "markdown",
   "metadata": {},
   "source": [
    "## Teste"
   ]
  },
  {
   "cell_type": "markdown",
   "metadata": {},
   "source": [
    "Base de Teste"
   ]
  },
  {
   "cell_type": "code",
   "execution_count": 20,
   "metadata": {
    "scrolled": true
   },
   "outputs": [
    {
     "data": {
      "text/html": [
       "<div class=\"entities\" style=\"line-height: 2.5; direction: ltr\">\n",
       "<mark class=\"entity\" style=\"background: #ddd; padding: 0.45em 0.6em; margin: 0 0.25em; line-height: 1; border-radius: 0.35em; box-decoration-break: clone; -webkit-box-decoration-break: clone\">\n",
       "    av. rui barbosa, 89\n",
       "    <span style=\"font-size: 0.8em; font-weight: bold; line-height: 1; border-radius: 0.35em; text-transform: uppercase; vertical-align: middle; margin-left: 0.5rem\">END_LOG</span>\n",
       "</mark>\n",
       " pe gracas  recife 52011-040</div>"
      ],
      "text/plain": [
       "<IPython.core.display.HTML object>"
      ]
     },
     "metadata": {},
     "output_type": "display_data"
    },
    {
     "data": {
      "text/html": [
       "<div class=\"entities\" style=\"line-height: 2.5; direction: ltr\">21941-291 galeao rio de janeiro  rj \n",
       "<mark class=\"entity\" style=\"background: #ddd; padding: 0.45em 0.6em; margin: 0 0.25em; line-height: 1; border-radius: 0.35em; box-decoration-break: clone; -webkit-box-decoration-break: clone\">\n",
       "    estrada do galeao, num 2821\n",
       "    <span style=\"font-size: 0.8em; font-weight: bold; line-height: 1; border-radius: 0.35em; text-transform: uppercase; vertical-align: middle; margin-left: 0.5rem\">END_LOG</span>\n",
       "</mark>\n",
       "</div>"
      ],
      "text/plain": [
       "<IPython.core.display.HTML object>"
      ]
     },
     "metadata": {},
     "output_type": "display_data"
    },
    {
     "data": {
      "text/html": [
       "<div class=\"entities\" style=\"line-height: 2.5; direction: ltr\">pindamonhangaba sp 12400-180 \n",
       "<mark class=\"entity\" style=\"background: #ddd; padding: 0.45em 0.6em; margin: 0 0.25em; line-height: 1; border-radius: 0.35em; box-decoration-break: clone; -webkit-box-decoration-break: clone\">\n",
       "    rua bicudo leme, 20\n",
       "    <span style=\"font-size: 0.8em; font-weight: bold; line-height: 1; border-radius: 0.35em; text-transform: uppercase; vertical-align: middle; margin-left: 0.5rem\">END_LOG</span>\n",
       "</mark>\n",
       "  centro</div>"
      ],
      "text/plain": [
       "<IPython.core.display.HTML object>"
      ]
     },
     "metadata": {},
     "output_type": "display_data"
    },
    {
     "data": {
      "text/html": [
       "<div class=\"entities\" style=\"line-height: 2.5; direction: ltr\">pr \n",
       "<mark class=\"entity\" style=\"background: #ddd; padding: 0.45em 0.6em; margin: 0 0.25em; line-height: 1; border-radius: 0.35em; box-decoration-break: clone; -webkit-box-decoration-break: clone\">\n",
       "    rua xv de novembro, 7546\n",
       "    <span style=\"font-size: 0.8em; font-weight: bold; line-height: 1; border-radius: 0.35em; text-transform: uppercase; vertical-align: middle; margin-left: 0.5rem\">END_LOG</span>\n",
       "</mark>\n",
       " guarapuava centro 85010-000</div>"
      ],
      "text/plain": [
       "<IPython.core.display.HTML object>"
      ]
     },
     "metadata": {},
     "output_type": "display_data"
    },
    {
     "data": {
      "text/html": [
       "<div class=\"entities\" style=\"line-height: 2.5; direction: ltr\">sc sao jose 88101-000 \n",
       "<mark class=\"entity\" style=\"background: #ddd; padding: 0.45em 0.6em; margin: 0 0.25em; line-height: 1; border-radius: 0.35em; box-decoration-break: clone; -webkit-box-decoration-break: clone\">\n",
       "    av. presidente kennedy, 696\n",
       "    <span style=\"font-size: 0.8em; font-weight: bold; line-height: 1; border-radius: 0.35em; text-transform: uppercase; vertical-align: middle; margin-left: 0.5rem\">END_LOG</span>\n",
       "</mark>\n",
       " campinas salas 2 e 3</div>"
      ],
      "text/plain": [
       "<IPython.core.display.HTML object>"
      ]
     },
     "metadata": {},
     "output_type": "display_data"
    },
    {
     "data": {
      "text/html": [
       "<div class=\"entities\" style=\"line-height: 2.5; direction: ltr\">rj rio de janeiro 360305 meier \n",
       "<mark class=\"entity\" style=\"background: #ddd; padding: 0.45em 0.6em; margin: 0 0.25em; line-height: 1; border-radius: 0.35em; box-decoration-break: clone; -webkit-box-decoration-break: clone\">\n",
       "    rua dias cruz 28\n",
       "    <span style=\"font-size: 0.8em; font-weight: bold; line-height: 1; border-radius: 0.35em; text-transform: uppercase; vertical-align: middle; margin-left: 0.5rem\">END_LOG</span>\n",
       "</mark>\n",
       " 20720-012</div>"
      ],
      "text/plain": [
       "<IPython.core.display.HTML object>"
      ]
     },
     "metadata": {},
     "output_type": "display_data"
    },
    {
     "data": {
      "text/html": [
       "<div class=\"entities\" style=\"line-height: 2.5; direction: ltr\">se  49200-000 centro estancia \n",
       "<mark class=\"entity\" style=\"background: #ddd; padding: 0.45em 0.6em; margin: 0 0.25em; line-height: 1; border-radius: 0.35em; box-decoration-break: clone; -webkit-box-decoration-break: clone\">\n",
       "    rua capito salomo\n",
       "    <span style=\"font-size: 0.8em; font-weight: bold; line-height: 1; border-radius: 0.35em; text-transform: uppercase; vertical-align: middle; margin-left: 0.5rem\">END_LOG</span>\n",
       "</mark>\n",
       "</div>"
      ],
      "text/plain": [
       "<IPython.core.display.HTML object>"
      ]
     },
     "metadata": {},
     "output_type": "display_data"
    },
    {
     "data": {
      "text/html": [
       "<div class=\"entities\" style=\"line-height: 2.5; direction: ltr\">68700-005 \n",
       "<mark class=\"entity\" style=\"background: #ddd; padding: 0.45em 0.6em; margin: 0 0.25em; line-height: 1; border-radius: 0.35em; box-decoration-break: clone; -webkit-box-decoration-break: clone\">\n",
       "    av. baro de capanema, 956\n",
       "    <span style=\"font-size: 0.8em; font-weight: bold; line-height: 1; border-radius: 0.35em; text-transform: uppercase; vertical-align: middle; margin-left: 0.5rem\">END_LOG</span>\n",
       "</mark>\n",
       " centro pa capanema</div>"
      ],
      "text/plain": [
       "<IPython.core.display.HTML object>"
      ]
     },
     "metadata": {},
     "output_type": "display_data"
    },
    {
     "data": {
      "text/html": [
       "<div class=\"entities\" style=\"line-height: 2.5; direction: ltr\">lojas 231 / 232 fortaleza ce 60175-055 papicu \n",
       "<mark class=\"entity\" style=\"background: #ddd; padding: 0.45em 0.6em; margin: 0 0.25em; line-height: 1; border-radius: 0.35em; box-decoration-break: clone; -webkit-box-decoration-break: clone\">\n",
       "    rua desembargador lauro nogueira\n",
       "    <span style=\"font-size: 0.8em; font-weight: bold; line-height: 1; border-radius: 0.35em; text-transform: uppercase; vertical-align: middle; margin-left: 0.5rem\">END_LOG</span>\n",
       "</mark>\n",
       "</div>"
      ],
      "text/plain": [
       "<IPython.core.display.HTML object>"
      ]
     },
     "metadata": {},
     "output_type": "display_data"
    },
    {
     "data": {
      "text/html": [
       "<div class=\"entities\" style=\"line-height: 2.5; direction: ltr\">82300-332 sao braz \n",
       "<mark class=\"entity\" style=\"background: #ddd; padding: 0.45em 0.6em; margin: 0 0.25em; line-height: 1; border-radius: 0.35em; box-decoration-break: clone; -webkit-box-decoration-break: clone\">\n",
       "    av ver toaldo tulio, 3830\n",
       "    <span style=\"font-size: 0.8em; font-weight: bold; line-height: 1; border-radius: 0.35em; text-transform: uppercase; vertical-align: middle; margin-left: 0.5rem\">END_LOG</span>\n",
       "</mark>\n",
       "  curitiba pr</div>"
      ],
      "text/plain": [
       "<IPython.core.display.HTML object>"
      ]
     },
     "metadata": {},
     "output_type": "display_data"
    },
    {
     "data": {
      "text/html": [
       "<div class=\"entities\" style=\"line-height: 2.5; direction: ltr\">maracacume centro 65289-000  ma \n",
       "<mark class=\"entity\" style=\"background: #ddd; padding: 0.45em 0.6em; margin: 0 0.25em; line-height: 1; border-radius: 0.35em; box-decoration-break: clone; -webkit-box-decoration-break: clone\">\n",
       "    av.deyse de souza, 253\n",
       "    <span style=\"font-size: 0.8em; font-weight: bold; line-height: 1; border-radius: 0.35em; text-transform: uppercase; vertical-align: middle; margin-left: 0.5rem\">END_LOG</span>\n",
       "</mark>\n",
       "</div>"
      ],
      "text/plain": [
       "<IPython.core.display.HTML object>"
      ]
     },
     "metadata": {},
     "output_type": "display_data"
    },
    {
     "data": {
      "text/html": [
       "<div class=\"entities\" style=\"line-height: 2.5; direction: ltr\">84500-000 pr esq.c/quinze de novembro \n",
       "<mark class=\"entity\" style=\"background: #ddd; padding: 0.45em 0.6em; margin: 0 0.25em; line-height: 1; border-radius: 0.35em; box-decoration-break: clone; -webkit-box-decoration-break: clone\">\n",
       "    r.dr.munhoz da rocha,208\n",
       "    <span style=\"font-size: 0.8em; font-weight: bold; line-height: 1; border-radius: 0.35em; text-transform: uppercase; vertical-align: middle; margin-left: 0.5rem\">END_LOG</span>\n",
       "</mark>\n",
       " irati centro</div>"
      ],
      "text/plain": [
       "<IPython.core.display.HTML object>"
      ]
     },
     "metadata": {},
     "output_type": "display_data"
    },
    {
     "data": {
      "text/html": [
       "<div class=\"entities\" style=\"line-height: 2.5; direction: ltr\">loja a - parte 20040-005 \n",
       "<mark class=\"entity\" style=\"background: #ddd; padding: 0.45em 0.6em; margin: 0 0.25em; line-height: 1; border-radius: 0.35em; box-decoration-break: clone; -webkit-box-decoration-break: clone\">\n",
       "    av. rio branco, 123\n",
       "    <span style=\"font-size: 0.8em; font-weight: bold; line-height: 1; border-radius: 0.35em; text-transform: uppercase; vertical-align: middle; margin-left: 0.5rem\">END_LOG</span>\n",
       "</mark>\n",
       " rj rio de janeiro centro</div>"
      ],
      "text/plain": [
       "<IPython.core.display.HTML object>"
      ]
     },
     "metadata": {},
     "output_type": "display_data"
    },
    {
     "data": {
      "text/html": [
       "<div class=\"entities\" style=\"line-height: 2.5; direction: ltr\">rio de janeiro rj 20070-022 \n",
       "<mark class=\"entity\" style=\"background: #ddd; padding: 0.45em 0.6em; margin: 0 0.25em; line-height: 1; border-radius: 0.35em; box-decoration-break: clone; -webkit-box-decoration-break: clone\">\n",
       "    r buenos aires\n",
       "    <span style=\"font-size: 0.8em; font-weight: bold; line-height: 1; border-radius: 0.35em; text-transform: uppercase; vertical-align: middle; margin-left: 0.5rem\">END_LOG</span>\n",
       "</mark>\n",
       " centro 48a lj ss</div>"
      ],
      "text/plain": [
       "<IPython.core.display.HTML object>"
      ]
     },
     "metadata": {},
     "output_type": "display_data"
    },
    {
     "data": {
      "text/html": [
       "<div class=\"entities\" style=\"line-height: 2.5; direction: ltr\">\n",
       "<mark class=\"entity\" style=\"background: #ddd; padding: 0.45em 0.6em; margin: 0 0.25em; line-height: 1; border-radius: 0.35em; box-decoration-break: clone; -webkit-box-decoration-break: clone\">\n",
       "    r.rui barbosa,1175\n",
       "    <span style=\"font-size: 0.8em; font-weight: bold; line-height: 1; border-radius: 0.35em; text-transform: uppercase; vertical-align: middle; margin-left: 0.5rem\">END_LOG</span>\n",
       "</mark>\n",
       " sc turvo centro 88930-000</div>"
      ],
      "text/plain": [
       "<IPython.core.display.HTML object>"
      ]
     },
     "metadata": {},
     "output_type": "display_data"
    },
    {
     "data": {
      "text/html": [
       "<div class=\"entities\" style=\"line-height: 2.5; direction: ltr\">pe 55590-000  porto de galinhas ipojuca \n",
       "<mark class=\"entity\" style=\"background: #ddd; padding: 0.45em 0.6em; margin: 0 0.25em; line-height: 1; border-radius: 0.35em; box-decoration-break: clone; -webkit-box-decoration-break: clone\">\n",
       "    r.beijupira,s/n\n",
       "    <span style=\"font-size: 0.8em; font-weight: bold; line-height: 1; border-radius: 0.35em; text-transform: uppercase; vertical-align: middle; margin-left: 0.5rem\">END_LOG</span>\n",
       "</mark>\n",
       "</div>"
      ],
      "text/plain": [
       "<IPython.core.display.HTML object>"
      ]
     },
     "metadata": {},
     "output_type": "display_data"
    },
    {
     "data": {
      "text/html": [
       "<div class=\"entities\" style=\"line-height: 2.5; direction: ltr\">26900-000 miguel pereira loja a centro \n",
       "<mark class=\"entity\" style=\"background: #ddd; padding: 0.45em 0.6em; margin: 0 0.25em; line-height: 1; border-radius: 0.35em; box-decoration-break: clone; -webkit-box-decoration-break: clone\">\n",
       "    rua aurea pinheiro, 09\n",
       "    <span style=\"font-size: 0.8em; font-weight: bold; line-height: 1; border-radius: 0.35em; text-transform: uppercase; vertical-align: middle; margin-left: 0.5rem\">END_LOG</span>\n",
       "</mark>\n",
       " rj</div>"
      ],
      "text/plain": [
       "<IPython.core.display.HTML object>"
      ]
     },
     "metadata": {},
     "output_type": "display_data"
    },
    {
     "data": {
      "text/html": [
       "<div class=\"entities\" style=\"line-height: 2.5; direction: ltr\">morro do chapeu centro 44850-000 ba \n",
       "<mark class=\"entity\" style=\"background: #ddd; padding: 0.45em 0.6em; margin: 0 0.25em; line-height: 1; border-radius: 0.35em; box-decoration-break: clone; -webkit-box-decoration-break: clone\">\n",
       "    rua flaviano guimaraes, 67\n",
       "    <span style=\"font-size: 0.8em; font-weight: bold; line-height: 1; border-radius: 0.35em; text-transform: uppercase; vertical-align: middle; margin-left: 0.5rem\">END_LOG</span>\n",
       "</mark>\n",
       "</div>"
      ],
      "text/plain": [
       "<IPython.core.display.HTML object>"
      ]
     },
     "metadata": {},
     "output_type": "display_data"
    },
    {
     "data": {
      "text/html": [
       "<div class=\"entities\" style=\"line-height: 2.5; direction: ltr\">68, parte 03323-000 sp tatuap sao paulo \n",
       "<mark class=\"entity\" style=\"background: #ddd; padding: 0.45em 0.6em; margin: 0 0.25em; line-height: 1; border-radius: 0.35em; box-decoration-break: clone; -webkit-box-decoration-break: clone\">\n",
       "    praa slvio romero\n",
       "    <span style=\"font-size: 0.8em; font-weight: bold; line-height: 1; border-radius: 0.35em; text-transform: uppercase; vertical-align: middle; margin-left: 0.5rem\">END_LOG</span>\n",
       "</mark>\n",
       "</div>"
      ],
      "text/plain": [
       "<IPython.core.display.HTML object>"
      ]
     },
     "metadata": {},
     "output_type": "display_data"
    }
   ],
   "source": [
    "from spacy import displacy\n",
    "\n",
    "for data in base_teste[:20]:\n",
    "    doc = nlp(data[0])\n",
    "    if doc.ents:\n",
    "        displacy.render(doc, style = 'ent')"
   ]
  },
  {
   "cell_type": "markdown",
   "metadata": {},
   "source": [
    "Frase qualquer"
   ]
  },
  {
   "cell_type": "code",
   "execution_count": 17,
   "metadata": {},
   "outputs": [
    {
     "data": {
      "text/html": [
       "<div class=\"entities\" style=\"line-height: 2.5; direction: ltr\">SHVP \n",
       "<mark class=\"entity\" style=\"background: #ddd; padding: 0.45em 0.6em; margin: 0 0.25em; line-height: 1; border-radius: 0.35em; box-decoration-break: clone; -webkit-box-decoration-break: clone\">\n",
       "    Rua 12 435\n",
       "    <span style=\"font-size: 0.8em; font-weight: bold; line-height: 1; border-radius: 0.35em; text-transform: uppercase; vertical-align: middle; margin-left: 0.5rem\">END_LOG</span>\n",
       "</mark>\n",
       " casa 22 lote 1</div>"
      ],
      "text/plain": [
       "<IPython.core.display.HTML object>"
      ]
     },
     "metadata": {},
     "output_type": "display_data"
    }
   ],
   "source": [
    "phrase = \"SHVP Rua 12 435 casa 22 lote 1\"\n",
    "\n",
    "doc = nlp(phrase)\n",
    "displacy.render(doc, style = 'ent' )"
   ]
  }
 ],
 "metadata": {
  "kernelspec": {
   "display_name": "Python 3",
   "language": "python",
   "name": "python3"
  },
  "language_info": {
   "codemirror_mode": {
    "name": "ipython",
    "version": 3
   },
   "file_extension": ".py",
   "mimetype": "text/x-python",
   "name": "python",
   "nbconvert_exporter": "python",
   "pygments_lexer": "ipython3",
   "version": "3.7.3"
  }
 },
 "nbformat": 4,
 "nbformat_minor": 2
}
